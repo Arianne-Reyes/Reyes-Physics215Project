# Step 1: Load and save raw data
from src.make_dataset import save_raw_data
save_raw_data()

# Step 2: Preprocess
from src.preprocess import load_and_preprocess_data
X_train, X_test, y_train, y_test = load_and_preprocess_data()

# Step 3: Train and compare models
from src.regression_models import run_models
results = run_models(X_train, y_train)

import matplotlib.pyplot as plt
plt.bar(results.keys(), results.values())
plt.ylabel("MSE (5-fold CV)")
plt.title("Model Comparison")
plt.xticks(rotation=45)
plt.grid(True)
plt.tight_layout()
plt.show()

# Step 4: Final model evaluation
from sklearn.linear_model import LinearRegression
from src.evaluation import evaluate_model

final_model = LinearRegression()
final_model.fit(X_train, y_train)
evaluate_model(final_model, X_test, y_test, title="Linear Regression")
